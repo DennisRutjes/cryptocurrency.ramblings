{
 "cells": [
  {
   "cell_type": "markdown",
   "metadata": {},
   "source": [
    "## Installing default packages"
   ]
  },
  {
   "cell_type": "code",
   "execution_count": 1,
   "metadata": {},
   "outputs": [
    {
     "name": "stdout",
     "output_type": "stream",
     "text": [
      "\u001b[32m\u001b[1m  Updating\u001b[22m\u001b[39m registry at `~/.julia/registries/General`\n",
      "\u001b[32m\u001b[1m  Updating\u001b[22m\u001b[39m git-repo `https://github.com/JuliaRegistries/General.git`\n",
      "\u001b[?25l\u001b[2K\u001b[?25h\u001b[32m\u001b[1m  Updating\u001b[22m\u001b[39m git-repo `https://github.com/DennisRutjes/Binance.jl`\n",
      "\u001b[?25l\u001b[2K\u001b[?25h\u001b[32m\u001b[1m Resolving\u001b[22m\u001b[39m package versions...\n",
      "\u001b[32m\u001b[1m  Updating\u001b[22m\u001b[39m `~/.julia/environments/v1.0/Project.toml`\n",
      "\u001b[90m [no changes]\u001b[39m\n",
      "\u001b[32m\u001b[1m  Updating\u001b[22m\u001b[39m `~/.julia/environments/v1.0/Manifest.toml`\n",
      "\u001b[90m [no changes]\u001b[39m\n"
     ]
    }
   ],
   "source": [
    "using Pkg;\n",
    "\n",
    "# packages to install, first time can take a while downloading, please be patient ...\n",
    "packages=[\"HTTP\",\"JSON\",\"DataFrames\",\"Plots\",\"StatPlots\",\"PlotThemes\",\"GR\",\"PyPlot\",\"PyCall\",\"LaTeXStrings\",\"Plotly\",\"PlotlyJS\"]\n",
    "\n",
    "for package in packages\n",
    "    if get(Pkg.installed(),package,-1) == -1\n",
    "        println(\" getting package : \", package)\n",
    "        Pkg.add(package)\n",
    "    end\n",
    "end\n",
    "\n",
    "using Pkg;\n",
    "Pkg.add(PackageSpec(url=\"https://github.com/DennisRutjes/Binance.jl\",rev=\"master\"));\n",
    "\n",
    "ENV[\"BINANCE_APIKEY\"] = \"N.A.\";\n",
    "ENV[\"BINANCE_SECRET\"] = \"N.A.\";\n"
   ]
  },
  {
   "cell_type": "markdown",
   "metadata": {},
   "source": [
    "## Creating generic functions for Binance API data to DataFrame conversion"
   ]
  },
  {
   "cell_type": "code",
   "execution_count": 2,
   "metadata": {},
   "outputs": [],
   "source": [
    "function getBinanceKlineDataframe(symbol, startDateTime, endDateTime ; interval=\"1m\")\n",
    "    klines = Binance.getKlines(symbol; startDateTime=startDateTime, endDateTime=endDateTime, interval= interval)\n",
    "    result = hcat(map(z -> map(x -> typeof(x) == String ? parse(Float64, x) : x, z), klines)...)';\n",
    "\n",
    "    #println(size(result))\n",
    "    if size(result,2) == 0\n",
    "        return nothing\n",
    "    end\n",
    "\n",
    "    symbolColumnData = map(x -> symbol, collect(1:size(result, 1)));\n",
    "    df = DataFrame([symbolColumnData, Dates.unix2datetime.(result[:,1]/1000) ,result[:,2],result[:,3],result[:,4],result[:,5],result[:,6],result[:,8],Dates.unix2datetime.(result[:,7] / 1000),result[:,9],result[:,10],result[:,11]], [:symbol,:startDate,:open,:high,:low,:close,:volume,:quoteAVolume, :endDate, :trades, :tbBaseAVolume,:tbQuoteAVolume]);\n",
    "end\n",
    "\n",
    "# getFloatValueArray\n",
    "getFloatValueArray(withKey, withDictArr) = map(dict -> parse(Float32, dict[withKey]) ,withDictArr);\n",
    "getStringValueArray(withKey, withDictArr) = map(dict -> convert(String, dict[withKey]) ,withDictArr);"
   ]
  },
  {
   "cell_type": "markdown",
   "metadata": {},
   "source": [
    "## Retrieve Market Symbols ending with BTC"
   ]
  },
  {
   "cell_type": "code",
   "execution_count": 3,
   "metadata": {},
   "outputs": [
    {
     "name": "stderr",
     "output_type": "stream",
     "text": [
      "┌ Info: Recompiling stale cache file /Users/drutjes/.julia/compiled/v1.0/Binance/polIw.ji for Binance [840d5de0-b432-11e8-2099-35be2bba8ecc]\n",
      "└ @ Base loading.jl:1184\n"
     ]
    }
   ],
   "source": [
    "using DataFrames,Statistics, Dates,Binance;\n",
    "\n",
    "# get 24H tickerdata of all assets\n",
    "hr24 = Binance.get24HR();\n",
    "# previous post we determined that BTC currency was the most obvious currency to tade in, most avalable symbols, second highest USDT $ volume.\n",
    "hr24BTC = Binance.filterOnRegex(\"BTC\\$\", hr24)\n",
    "\n",
    "# all symbols ending with BTC\n",
    "symbols = sort!(getStringValueArray(\"symbol\", hr24BTC));"
   ]
  },
  {
   "cell_type": "markdown",
   "metadata": {},
   "source": [
    "## Retrieve Data with interval 1 month \"1M\" and 1 minute \"1m\""
   ]
  },
  {
   "cell_type": "code",
   "execution_count": 4,
   "metadata": {},
   "outputs": [
    {
     "name": "stdout",
     "output_type": "stream",
     "text": [
      "retrieving data from binance 2018-09-09T18:53:17.593 for : ADABTC ADXBTC AEBTC AGIBTC AIONBTC AMBBTC APPCBTC ARDRBTC ARKBTC ARNBTC ASTBTC BATBTC BCCBTC BCDBTC BCNBTC BCPTBTC BLZBTC BNBBTC BNTBTC BQXBTC BRDBTC BTGBTC BTSBTC CDTBTC CHATBTC CLOAKBTC CMTBTC CNDBTC CVCBTC DASHBTC DATABTC DENTBTC DGDBTC DLTBTC DNTBTC DOCKBTC EDOBTC ELFBTC ENGBTC ENJBTC EOSBTC ETCBTC ETHBTC EVXBTC FUELBTC FUNBTC GASBTC GNTBTC GRSBTC GTOBTC GVTBTC GXSBTC HCBTC HOTBTC HSRBTC ICNBTC ICXBTC INSBTC IOSTBTC IOTABTC IOTXBTC KEYBTC KMDBTC KNCBTC LENDBTC LINKBTC LOOMBTC LRCBTC LSKBTC LTCBTC LUNBTC MANABTC MCOBTC MDABTC MFTBTC MODBTC MTHBTC MTLBTC NANOBTC NASBTC NAVBTC NCASHBTC NEBLBTC NEOBTC NPXSBTC NULSBTC NXSBTC OAXBTC OMGBTC ONTBTC OSTBTC PHXBTC PIVXBTC POABTC POEBTC POLYBTC POWRBTC PPTBTC QKCBTC QLCBTC QSPBTC QTUMBTC RCNBTC RDNBTC REPBTC REQBTC RLCBTC RPXBTC SALTBTC SCBTC SKYBTC SNGLSBTC SNMBTC SNTBTC STEEMBTC STORJBTC STORMBTC STRATBTC SUBBTC SYSBTC THETABTC TNBBTC TNTBTC TRIGBTC TRXBTC TUSDBTC VENBTC VETBTC VIABTC VIBBTC VIBEBTC WABIBTC WANBTC WAVESBTC WINGSBTC WPRBTC WTCBTC XEMBTC XLMBTC XMRBTC XRPBTC XVGBTC XZCBTC YOYOBTC ZECBTC ZENBTC ZILBTC ZRXBTC"
     ]
    }
   ],
   "source": [
    "res = nothing;\n",
    "# loop through all the symbols en retrieve kline data from binance api\n",
    "current_datetime = now();\n",
    "print(\"retrieving data from binance $current_datetime for :\")\n",
    "\n",
    "for symbol in symbols\n",
    "    global res\n",
    "    print(\" $symbol\")\n",
    "    dfM = getBinanceKlineDataframe(symbol, now(UTC)-Month(6),now(); interval=\"1M\")\n",
    "    if(dfM == nothing)\n",
    "        continue\n",
    "    end\n",
    "\n",
    "    # append most recent 5m data, if no trades occured skip this\n",
    "    dfm = getBinanceKlineDataframe(symbol, now(UTC)-Minute(5),now(UTC); interval=\"1m\")\n",
    "    if(dfm == nothing)\n",
    "        continue\n",
    "    end\n",
    "\n",
    "    append!(dfM,dfm)\n",
    "\n",
    "    if res == nothing\n",
    "        res = dfM;\n",
    "    else\n",
    "        append!(res,dfM)\n",
    "    end\n",
    "end\n",
    "\n",
    "alldata = by(res, :symbol, df -> DataFrame(current = df[:close][end], min = minimum(df[:low]), changeMin = (df[:close][end] - minimum(df[:low]))/minimum(df[:low])*100, max =maximum(df[:high]), changeMax = (maximum(df[:high])-df[:close][end]) / maximum(df[:high])*100, trades =sum(df[:trades]),volume =sum(df[:volume])));\n"
   ]
  },
  {
   "cell_type": "markdown",
   "metadata": {},
   "source": [
    "## sort on volume/trades"
   ]
  },
  {
   "cell_type": "code",
   "execution_count": 5,
   "metadata": {},
   "outputs": [],
   "source": [
    "sort!(alldata, [:volume,:trades]; rev=true);"
   ]
  },
  {
   "cell_type": "markdown",
   "metadata": {},
   "source": [
    "## who is the loser ?"
   ]
  },
  {
   "cell_type": "code",
   "execution_count": 6,
   "metadata": {},
   "outputs": [
    {
     "data": {
      "text/html": [
       "<table class=\"data-frame\"><thead><tr><th></th><th>symbol</th><th>current</th><th>min</th><th>changeMin</th><th>max</th><th>changeMax</th><th>trades</th><th>volume</th></tr></thead><tbody><tr><th>1</th><td>ADABTC</td><td>1.227e-5</td><td>1.201e-5</td><td>2.16486</td><td>4.19e-5</td><td>70.716</td><td>10013620</td><td>2.03832e10</td></tr><tr><th>2</th><td>FUNBTC</td><td>2.23e-6</td><td>2.17e-6</td><td>2.76498</td><td>6.51e-6</td><td>65.745</td><td>1659651</td><td>6.09706e9</td></tr><tr><th>3</th><td>SNGLSBTC</td><td>2.91e-6</td><td>2.83e-6</td><td>2.82686</td><td>2.295e-5</td><td>87.3203</td><td>1185198</td><td>2.31789e9</td></tr><tr><th>4</th><td>GTOBTC</td><td>1.002e-5</td><td>9.69e-6</td><td>3.40557</td><td>6.95e-5</td><td>85.5827</td><td>2833881</td><td>3.14644e9</td></tr><tr><th>5</th><td>LENDBTC</td><td>1.83e-6</td><td>1.76e-6</td><td>3.97727</td><td>1.086e-5</td><td>83.1492</td><td>1264670</td><td>3.55641e9</td></tr><tr><th>6</th><td>POEBTC</td><td>1.26e-6</td><td>1.2e-6</td><td>5.0</td><td>6.79e-6</td><td>81.4433</td><td>2420694</td><td>1.79134e10</td></tr></tbody></table>"
      ],
      "text/plain": [
       "6×8 DataFrame. Omitted printing of 2 columns\n",
       "│ Row │ symbol   │ current  │ min      │ changeMin │ max      │ changeMax │\n",
       "├─────┼──────────┼──────────┼──────────┼───────────┼──────────┼───────────┤\n",
       "│ 1   │ ADABTC   │ 1.227e-5 │ 1.201e-5 │ 2.16486   │ 4.19e-5  │ 70.716    │\n",
       "│ 2   │ FUNBTC   │ 2.23e-6  │ 2.17e-6  │ 2.76498   │ 6.51e-6  │ 65.745    │\n",
       "│ 3   │ SNGLSBTC │ 2.91e-6  │ 2.83e-6  │ 2.82686   │ 2.295e-5 │ 87.3203   │\n",
       "│ 4   │ GTOBTC   │ 1.002e-5 │ 9.69e-6  │ 3.40557   │ 6.95e-5  │ 85.5827   │\n",
       "│ 5   │ LENDBTC  │ 1.83e-6  │ 1.76e-6  │ 3.97727   │ 1.086e-5 │ 83.1492   │\n",
       "│ 6   │ POEBTC   │ 1.26e-6  │ 1.2e-6   │ 5.0       │ 6.79e-6  │ 81.4433   │"
      ]
     },
     "execution_count": 6,
     "metadata": {},
     "output_type": "execute_result"
    }
   ],
   "source": [
    "head(sort(alldata[1:40,:], [:changeMin]; rev=false))"
   ]
  }
 ],
 "metadata": {
  "kernelspec": {
   "display_name": "Julia 1.0.0",
   "language": "julia",
   "name": "julia-1.0"
  },
  "language_info": {
   "file_extension": ".jl",
   "mimetype": "application/julia",
   "name": "julia",
   "version": "1.0.0"
  }
 },
 "nbformat": 4,
 "nbformat_minor": 2
}
