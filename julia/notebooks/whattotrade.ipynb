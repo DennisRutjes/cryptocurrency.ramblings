{
 "cells": [
  {
   "cell_type": "markdown",
   "metadata": {},
   "source": [
    "## Installing default packages"
   ]
  },
  {
   "cell_type": "code",
   "execution_count": 19,
   "metadata": {},
   "outputs": [],
   "source": [
    "using Pkg;\n",
    "\n",
    "# packages to install, first time can take a while downloading, please be patient ...\n",
    "packages=[\"HTTP\",\"JSON\",\"DataFrames\",\"Plots\",\"StatPlots\",\"PlotThemes\",\"GR\",\"PyPlot\",\"PyCall\",\"LaTeXStrings\",\"Plotly\",\"PlotlyJS\"]\n",
    "\n",
    "for package in packages\n",
    "    if get(Pkg.installed(),package,-1) == -1\n",
    "        println(\" getting package : \", package)\n",
    "        Pkg.add(package)\n",
    "    end\n",
    "end"
   ]
  },
  {
   "cell_type": "markdown",
   "metadata": {},
   "source": [
    "## Creating generic functions for Binance API data retrieval"
   ]
  },
  {
   "cell_type": "code",
   "execution_count": 21,
   "metadata": {},
   "outputs": [],
   "source": [
    "# show all data for a given value\n",
    "function showAll(value)\n",
    "    show(IOContext(stdout, :displaysize => (10^6, 10^6)), \"text/plain\", value)\n",
    "end\n",
    "\n",
    "using HTTP, JSON, Dates\n",
    "import Printf.@sprintf\n",
    "\n",
    "# base URL of the Binance API\n",
    "const BINANCE_API_REST = \"https://api.binance.com/api/v1/ticker/\";\n",
    "\n",
    "# function HTTP response 2 JSON\n",
    "function r2j(response)\n",
    "    JSON.parse(String(response))\n",
    "end\n",
    "\n",
    "# retrieve data from binance for \"allPrices\", \"24hr\", \"allBookTickers\"\n",
    "function getBinanceDataFor(withSubject)\n",
    "    r = HTTP.request(\"GET\", string(BINANCE_API_REST, withSubject))\n",
    "    r2j(r.body)\n",
    "end\n",
    "\n",
    "# current Binance market\n",
    "function getBinanceMarket()\n",
    "    r = HTTP.request(\"GET\", \"https://www.binance.com/exchange/public/product\")\n",
    "    r2j(r.body)[\"data\"]\n",
    "end\n",
    "\n",
    "# binance get candlesticks/klines data\n",
    "function getBinanceKline(symbol, startDateTime, endDateTime ; interval=\"1m\")\n",
    "    startTime = @sprintf(\"%.0d\",Dates.datetime2unix(startDateTime) * 1000)\n",
    "    endTime = @sprintf(\"%.0d\",Dates.datetime2unix(endDateTime) * 1000)\n",
    "    query = string(\"symbol=\", symbol, \"&interval=\", interval, \"&startTime=\", startTime, \"&endTime=\", endTime)\n",
    "    r = HTTP.request(\"GET\", string(\"https://api.binance.com/api/v1/klines?\",  query))\n",
    "    r2j(r.body)\n",
    "end\n",
    "\n",
    "function getBinanceKlineDataframe(symbol, startDateTime, endDateTime ; interval=\"1m\")\n",
    "    klines = getBinanceKline(symbol, startDateTime, endDateTime; interval= interval)\n",
    "    result = hcat(map(z -> map(x -> typeof(x) == String ? parse(Float64, x) : x, z), klines)...)';\n",
    "\n",
    "    #println(size(result))\n",
    "    if size(result,2) == 0\n",
    "        return nothing\n",
    "    end\n",
    "\n",
    "    symbolColumnData = map(x -> symbol, collect(1:size(result, 1)));\n",
    "    df = DataFrame([symbolColumnData, Dates.unix2datetime.(result[:,1]/1000) ,result[:,2],result[:,3],result[:,4],result[:,5],result[:,6],result[:,8],Dates.unix2datetime.(result[:,7] / 1000),result[:,9],result[:,10],result[:,11]], [:symbol,:startDate,:open,:high,:low,:close,:volume,:quoteAVolume, :endDate, :trades, :tbBaseAVolume,:tbQuoteAVolume]);\n",
    "end\n",
    "\n",
    "# getFloatValueArray\n",
    "getFloatValueArray(withKey, withDictArr) = map(dict -> parse(Float32, dict[withKey]) ,withDictArr)\n",
    "getStringValueArray(withKey, withDictArr) = map(dict -> convert(String, dict[withKey]) ,withDictArr)\n",
    "# filter\n",
    "filterOnRegex(matcher,withDictArr; withKey=\"symbol\") = filter(x-> match(Regex(matcher), x[withKey]) != nothing, withDictArr);"
   ]
  },
  {
   "cell_type": "markdown",
   "metadata": {},
   "source": [
    "## Retrieve Market Symbols ending with BTC"
   ]
  },
  {
   "cell_type": "code",
   "execution_count": 22,
   "metadata": {},
   "outputs": [],
   "source": [
    "using DataFrames,Statistics;\n",
    "\n",
    "# get 24H tickerdata of all assets\n",
    "hr24 = getBinanceDataFor(\"24hr\");\n",
    "# previous post we determined that BTC currency was the most obvious currency to tade in, most avalable symbols, second highest USDT $ volume.\n",
    "hr24BTC = filterOnRegex(\"BTC\\$\", hr24)\n",
    "\n",
    "# all symbols ending with BTC\n",
    "symbols = sort!(getStringValueArray(\"symbol\", hr24BTC));"
   ]
  },
  {
   "cell_type": "markdown",
   "metadata": {},
   "source": [
    "## Retrieve Data with interval 1 month \"1M\" and 1 minute \"1m\""
   ]
  },
  {
   "cell_type": "code",
   "execution_count": 23,
   "metadata": {},
   "outputs": [
    {
     "name": "stdout",
     "output_type": "stream",
     "text": [
      "retrieving data from binance 2018-09-09T12:42:44.868 for : ADABTC ADXBTC AEBTC AGIBTC AIONBTC AMBBTC APPCBTC ARDRBTC ARKBTC ARNBTC ASTBTC BATBTC BCCBTC BCDBTC BCNBTC BCPTBTC BLZBTC BNBBTC BNTBTC BQXBTC BRDBTC BTGBTC BTSBTC CDTBTC CHATBTC CLOAKBTC CMTBTC CNDBTC CVCBTC DASHBTC DATABTC DENTBTC DGDBTC DLTBTC DNTBTC DOCKBTC EDOBTC ELFBTC ENGBTC ENJBTC EOSBTC ETCBTC ETHBTC EVXBTC FUELBTC FUNBTC GASBTC GNTBTC GRSBTC GTOBTC GVTBTC GXSBTC HCBTC HOTBTC HSRBTC ICNBTC ICXBTC INSBTC IOSTBTC IOTABTC IOTXBTC KEYBTC KMDBTC KNCBTC LENDBTC LINKBTC LOOMBTC LRCBTC LSKBTC LTCBTC LUNBTC MANABTC MCOBTC MDABTC MFTBTC MODBTC MTHBTC MTLBTC NANOBTC NASBTC NAVBTC NCASHBTC NEBLBTC NEOBTC NPXSBTC NULSBTC NXSBTC OAXBTC OMGBTC ONTBTC OSTBTC PHXBTC PIVXBTC POABTC POEBTC POLYBTC POWRBTC PPTBTC QKCBTC QLCBTC QSPBTC QTUMBTC RCNBTC RDNBTC REPBTC REQBTC RLCBTC RPXBTC SALTBTC SCBTC SKYBTC SNGLSBTC SNMBTC SNTBTC STEEMBTC STORJBTC STORMBTC STRATBTC SUBBTC SYSBTC THETABTC TNBBTC TNTBTC TRIGBTC TRXBTC TUSDBTC VENBTC VETBTC VIABTC VIBBTC VIBEBTC WABIBTC WANBTC WAVESBTC WINGSBTC WPRBTC WTCBTC XEMBTC XLMBTC XMRBTC XRPBTC XVGBTC XZCBTC YOYOBTC ZECBTC ZENBTC ZILBTC ZRXBTC"
     ]
    }
   ],
   "source": [
    "res = nothing;\n",
    "# loop through all the symbols en retrieve kline data from binance api\n",
    "current_datetime = now();\n",
    "print(\"retrieving data from binance $current_datetime for :\")\n",
    "\n",
    "for symbol in symbols\n",
    "    global res\n",
    "    print(\" $symbol\")\n",
    "    dfM = getBinanceKlineDataframe(symbol, now(UTC)-Month(6),now(); interval=\"1M\")\n",
    "    if(dfM == nothing)\n",
    "        continue\n",
    "    end\n",
    "\n",
    "    # append most recent 5m data, if no trades occured skip this\n",
    "    dfm = getBinanceKlineDataframe(symbol, now(UTC)-Minute(5),now(UTC); interval=\"1m\")\n",
    "    if(dfm == nothing)\n",
    "        continue\n",
    "    end\n",
    "\n",
    "    append!(dfM,dfm)\n",
    "\n",
    "    if res == nothing\n",
    "        res = dfM;\n",
    "    else\n",
    "        append!(res,dfM)\n",
    "    end\n",
    "end\n",
    "\n",
    "alldata = by(res, :symbol, df -> DataFrame(current = df[:close][end], min = minimum(df[:low]), changeMin = (df[:close][end] - minimum(df[:low]))/minimum(df[:low])*100, max =maximum(df[:high]), changeMax = (maximum(df[:high])-df[:close][end]) / maximum(df[:high])*100, trades =sum(df[:trades]),volume =sum(df[:volume])));\n"
   ]
  },
  {
   "cell_type": "markdown",
   "metadata": {},
   "source": [
    "## sort on volume/trades"
   ]
  },
  {
   "cell_type": "code",
   "execution_count": 24,
   "metadata": {},
   "outputs": [],
   "source": [
    "sort!(alldata, [:volume,:trades]; rev=true);"
   ]
  },
  {
   "cell_type": "markdown",
   "metadata": {},
   "source": [
    "## who is the loser ?"
   ]
  },
  {
   "cell_type": "code",
   "execution_count": 26,
   "metadata": {},
   "outputs": [
    {
     "data": {
      "text/html": [
       "<table class=\"data-frame\"><thead><tr><th></th><th>symbol</th><th>current</th><th>min</th><th>changeMin</th><th>max</th><th>changeMax</th><th>trades</th><th>volume</th></tr></thead><tbody><tr><th>1</th><td>ADABTC</td><td>1.228e-5</td><td>1.201e-5</td><td>2.24813</td><td>4.19e-5</td><td>70.6921</td><td>10002842</td><td>2.03433e10</td></tr><tr><th>2</th><td>WPRBTC</td><td>2.68e-6</td><td>2.61e-6</td><td>2.68199</td><td>1.905e-5</td><td>85.9318</td><td>1806944</td><td>2.37861e9</td></tr><tr><th>3</th><td>LENDBTC</td><td>1.81e-6</td><td>1.76e-6</td><td>2.84091</td><td>1.086e-5</td><td>83.3333</td><td>1264368</td><td>3.55447e9</td></tr><tr><th>4</th><td>SNGLSBTC</td><td>2.92e-6</td><td>2.83e-6</td><td>3.18021</td><td>2.295e-5</td><td>87.2767</td><td>1184982</td><td>2.31718e9</td></tr><tr><th>5</th><td>FUNBTC</td><td>2.25e-6</td><td>2.17e-6</td><td>3.68664</td><td>6.51e-6</td><td>65.4378</td><td>1659178</td><td>6.09257e9</td></tr><tr><th>6</th><td>VIBBTC</td><td>4.81e-6</td><td>4.63e-6</td><td>3.88769</td><td>2.9e-5</td><td>83.4138</td><td>1143303</td><td>2.57617e9</td></tr></tbody></table>"
      ],
      "text/plain": [
       "6×8 DataFrame. Omitted printing of 2 columns\n",
       "│ Row │ symbol   │ current  │ min      │ changeMin │ max      │ changeMax │\n",
       "├─────┼──────────┼──────────┼──────────┼───────────┼──────────┼───────────┤\n",
       "│ 1   │ ADABTC   │ 1.228e-5 │ 1.201e-5 │ 2.24813   │ 4.19e-5  │ 70.6921   │\n",
       "│ 2   │ WPRBTC   │ 2.68e-6  │ 2.61e-6  │ 2.68199   │ 1.905e-5 │ 85.9318   │\n",
       "│ 3   │ LENDBTC  │ 1.81e-6  │ 1.76e-6  │ 2.84091   │ 1.086e-5 │ 83.3333   │\n",
       "│ 4   │ SNGLSBTC │ 2.92e-6  │ 2.83e-6  │ 3.18021   │ 2.295e-5 │ 87.2767   │\n",
       "│ 5   │ FUNBTC   │ 2.25e-6  │ 2.17e-6  │ 3.68664   │ 6.51e-6  │ 65.4378   │\n",
       "│ 6   │ VIBBTC   │ 4.81e-6  │ 4.63e-6  │ 3.88769   │ 2.9e-5   │ 83.4138   │"
      ]
     },
     "execution_count": 26,
     "metadata": {},
     "output_type": "execute_result"
    }
   ],
   "source": [
    "head(sort(alldata[1:40,:], [:changeMin]; rev=false))"
   ]
  },
  {
   "cell_type": "code",
   "execution_count": null,
   "metadata": {},
   "outputs": [],
   "source": []
  }
 ],
 "metadata": {
  "kernelspec": {
   "display_name": "Julia 1.0.0",
   "language": "julia",
   "name": "julia-1.0"
  },
  "language_info": {
   "file_extension": ".jl",
   "mimetype": "application/julia",
   "name": "julia",
   "version": "1.0.0"
  }
 },
 "nbformat": 4,
 "nbformat_minor": 2
}
