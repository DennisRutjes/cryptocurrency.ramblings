{
 "cells": [
  {
   "cell_type": "markdown",
   "metadata": {},
   "source": [
    "## Adding packages."
   ]
  },
  {
   "cell_type": "code",
   "execution_count": null,
   "metadata": {},
   "outputs": [],
   "source": [
    "using Pkg;\n",
    "\n",
    "# packages to install, first time can take a while downloading, please be patient ...\n",
    "packages=[\"HTTP\",\"JSON\",\"DataFrames\",\"Plots\",\"StatPlots\",\"PlotThemes\",\"GR\",\"PyPlot\",\"PyCall\",\"LaTeXStrings\",\"Plotly\",\"PlotlyJS\"]\n",
    "\n",
    "for package in packages\n",
    "    if get(Pkg.installed(),package,-1) == -1\n",
    "        println(\" getting package : \", package)\n",
    "        Pkg.add(package)\n",
    "    end\n",
    "end"
   ]
  },
  {
   "cell_type": "markdown",
   "metadata": {},
   "source": [
    "## Creating generic functions for Binance API data retrieval"
   ]
  },
  {
   "cell_type": "code",
   "execution_count": null,
   "metadata": {},
   "outputs": [],
   "source": [
    "# show all data for a given value\n",
    "function showAll(value)\n",
    "    show(IOContext(stdout, :displaysize => (10^6, 10^6)), \"text/plain\", value)\n",
    "end\n",
    "\n",
    "using HTTP, JSON, Dates\n",
    "import Printf.@sprintf\n",
    "\n",
    "# base URL of the Binance API\n",
    "const BINANCE_API_REST = \"https://api.binance.com/api/v1/ticker/\";\n",
    "\n",
    "# function HTTP response 2 JSON\n",
    "function r2j(response)\n",
    "    JSON.parse(String(response))\n",
    "end\n",
    "\n",
    "# retrieve data from binance for \"allPrices\", \"24hr\", \"allBookTickers\"\n",
    "function getBinanceDataFor(withSubject)\n",
    "    r = HTTP.request(\"GET\", string(BINANCE_API_REST, withSubject))\n",
    "    r2j(r.body)\n",
    "end\n",
    "\n",
    "# current Binance market\n",
    "function getBinanceMarket()\n",
    "    r = HTTP.request(\"GET\", \"https://www.binance.com/exchange/public/product\")\n",
    "    r2j(r.body)[\"data\"]\n",
    "end\n",
    "\n",
    "# binance get candlesticks/klines data\n",
    "function getBinanceKline(symbol, startDateTime, endDateTime ; interval=\"1m\")\n",
    "    startTime = @sprintf(\"%.0d\",Dates.datetime2unix(startDateTime) * 1000)\n",
    "    endTime = @sprintf(\"%.0d\",Dates.datetime2unix(endDateTime) * 1000)\n",
    "    query = string(\"symbol=\", symbol, \"&interval=\", interval, \"&startTime=\", startTime, \"&endTime=\", endTime) \n",
    "    r = HTTP.request(\"GET\", string(\"https://api.binance.com/api/v1/klines?\",  query))\n",
    "    r2j(r.body)\n",
    "end\n",
    "\n",
    "# getFloatValueArray\n",
    "getFloatValueArray(withKey, withDictArr) = map(dict -> parse(Float32, dict[withKey]) ,withDictArr)\n",
    "getStringValueArray(withKey, withDictArr) = map(dict -> convert(String, dict[withKey]) ,withDictArr)\n",
    "# filter \n",
    "filterOnRegex(matcher,withDictArr; withKey=\"symbol\") = filter(x-> match(Regex(matcher), x[withKey]) != nothing, withDictArr)"
   ]
  },
  {
   "cell_type": "code",
   "execution_count": null,
   "metadata": {},
   "outputs": [],
   "source": [
    "# Retrieve Symbols Data with interval 1 month \"1M\""
   ]
  },
  {
   "cell_type": "code",
   "execution_count": null,
   "metadata": {},
   "outputs": [],
   "source": [
    "using DataFrames;\n",
    "\n",
    "# get 24H tickerdata of all assets\n",
    "hr24 = getBinanceDataFor(\"24hr\");\n",
    "# previous post we determined that BTC currency was the most obvious currency to tade in, most avalable symbols, second h\n",
    "hr24BTC = filterOnRegex(\"BTC\\$\", hr24)\n",
    "\n",
    "symbols = getStringValueArray(\"symbol\", hr24BTC);\n",
    "\n",
    "\n",
    "\n",
    "# volume BTC ammount = volume * weightedAvgPrice\n",
    "quoteVolume = getFloatValueArray(\"quoteVolume\", hr24);\n",
    "volume = getFloatValueArray(\"volume\", hr24);\n",
    "# Dataframe convenient structure to handle data in tabular format\n",
    "df = DataFrame(basesymbol=basesymbols, symbol=symbols, lastPrice=lastPrice, priceChangePercent=priceChangePercent, quoteVolume=quoteVolume, volume=volume);\n",
    "#sort!(df, :priceChangePercent; rev=false);"
   ]
  },
  {
   "cell_type": "markdown",
   "metadata": {},
   "source": [
    "## Determine the TOP N highest traded symbols sorted descending"
   ]
  },
  {
   "cell_type": "code",
   "execution_count": null,
   "metadata": {},
   "outputs": [],
   "source": []
  },
  {
   "cell_type": "markdown",
   "metadata": {},
   "source": [
    "## Determine the assets from the TOP N, with the lowest value"
   ]
  },
  {
   "cell_type": "code",
   "execution_count": null,
   "metadata": {},
   "outputs": [],
   "source": [
    "# get only symbols ending on BTC\n",
    "hr24BTC = filterOnRegex(\"BTC\\$\", hr24)\n",
    "hr24ETH = filterOnRegex(\"ETH\\$\", hr24)\n",
    "hr24BNB = filterOnRegex(\"BNB\\$\", hr24)\n",
    "hr24USDT = filterOnRegex(\"USDT\\$\", hr24)\n",
    "\n",
    "println(\"BTC has : \",size(hr24BTC,1),\" assets\")\n",
    "println(\"ETH has : \",size(hr24ETH,1),\" assets\")\n",
    "println(\"BNB has : \",size(hr24BNB,1),\" assets\")\n",
    "println(\"USDT has : \",size(hr24USDT,1),\" assets\")"
   ]
  },
  {
   "cell_type": "code",
   "execution_count": null,
   "metadata": {},
   "outputs": [],
   "source": [
    "# get the latest currency values from base currencies\n",
    "fdf = filter(row -> row[:symbol] in [\"BTCUSDT\",\"ETHUSDT\",\"BNBUSDT\"], df)\n",
    "results = (fdf[:,[:symbol,:lastPrice]])\n",
    "append!(results,DataFrame(symbol=[\"SDTUSDT\"],lastPrice = [1.0]))\n",
    "println(\"\\n Get the \\$ values from the base currencies\\n\")\n",
    "unique!(results)"
   ]
  },
  {
   "cell_type": "code",
   "execution_count": null,
   "metadata": {},
   "outputs": [],
   "source": [
    "using StatPlots\n",
    "theme(:dark);\n",
    "\n",
    "symbol_volume = by(df, :basesymbol) do d\n",
    "    USDT_CONVERSION = filter(row -> row[:symbol] == string(d[:basesymbol][1], \"USDT\"), results)[:lastPrice]\n",
    "    DataFrame(assetSize  = size(d[:symbol], 1), quoteVolume  = sum(d[:quoteVolume]), quoteVolumeUSDT  = sum(d[:quoteVolume])*USDT_CONVERSION/10^6)\n",
    "    end;\n",
    "\n",
    "show(sort!(symbol_volume, [:assetSize,:quoteVolumeUSDT]; rev=true))\n",
    "\n",
    "Plots.plot(symbol_volume[:basesymbol], symbol_volume[:quoteVolumeUSDT],seriestype=:pie,title = \"USDT trading distribution Binance\")"
   ]
  }
 ],
 "metadata": {
  "kernelspec": {
   "display_name": "Julia 1.0.0",
   "language": "julia",
   "name": "julia-1.0"
  },
  "language_info": {
   "file_extension": ".jl",
   "mimetype": "application/julia",
   "name": "julia",
   "version": "1.0.0"
  }
 },
 "nbformat": 4,
 "nbformat_minor": 2
}
