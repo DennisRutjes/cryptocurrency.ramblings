{
 "cells": [
  {
   "cell_type": "markdown",
   "metadata": {},
   "source": [
    "## Adding packages."
   ]
  },
  {
   "cell_type": "code",
   "execution_count": 30,
   "metadata": {},
   "outputs": [],
   "source": [
    "using Pkg;\n",
    "\n",
    "# packages to install, first time can take a while downloading, please be patient ...\n",
    "packages=[\"HTTP\",\"JSON\",\"DataFrames\",\"Plots\",\"StatPlots\",\"PlotThemes\",\"GR\",\"PyPlot\",\"PyCall\",\"LaTeXStrings\",\"Plotly\",\"PlotlyJS\"]\n",
    "\n",
    "for package in packages\n",
    "    if get(Pkg.installed(),package,-1) == -1\n",
    "        println(\" getting package : \", package)\n",
    "        Pkg.add(package)\n",
    "    end\n",
    "end"
   ]
  },
  {
   "cell_type": "markdown",
   "metadata": {},
   "source": [
    "## creating generic functions for Binance API data retrieval"
   ]
  },
  {
   "cell_type": "code",
   "execution_count": 31,
   "metadata": {},
   "outputs": [
    {
     "data": {
      "text/plain": [
       "filterOnRegex (generic function with 1 method)"
      ]
     },
     "execution_count": 31,
     "metadata": {},
     "output_type": "execute_result"
    }
   ],
   "source": [
    "# show all data for a given value\n",
    "function showAll(value)\n",
    "    show(IOContext(stdout, :displaysize => (10^6, 10^6)), \"text/plain\", value)\n",
    "end\n",
    "\n",
    "using HTTP, JSON, Dates\n",
    "import Printf.@sprintf\n",
    "\n",
    "# base URL of the Binance API\n",
    "const BINANCE_API_REST = \"https://api.binance.com/api/v1/ticker/\";\n",
    "\n",
    "# function HTTP response 2 JSON\n",
    "function r2j(response)\n",
    "    JSON.parse(String(response))\n",
    "end\n",
    "\n",
    "# retrieve data from binance for \"allPrices\", \"24hr\", \"allBookTickers\"\n",
    "function getBinanceDataFor(withSubject)\n",
    "    r = HTTP.request(\"GET\", string(BINANCE_API_REST, withSubject))\n",
    "    r2j(r.body)\n",
    "end\n",
    "\n",
    "# current Binance market\n",
    "function getBinanceMarket()\n",
    "    r = HTTP.request(\"GET\", \"https://www.binance.com/exchange/public/product\")\n",
    "    r2j(r.body)[\"data\"]\n",
    "end\n",
    "\n",
    "# binance get candlesticks/klines data\n",
    "function getBinanceKline(symbol, startDateTime, endDateTime ; interval=\"1m\")\n",
    "    startTime = @sprintf(\"%.0d\",Dates.datetime2unix(startDateTime) * 1000)\n",
    "    endTime = @sprintf(\"%.0d\",Dates.datetime2unix(endDateTime) * 1000)\n",
    "    query = string(\"symbol=\", symbol, \"&interval=\", interval, \"&startTime=\", startTime, \"&endTime=\", endTime) \n",
    "    r = HTTP.request(\"GET\", string(\"https://api.binance.com/api/v1/klines?\",  query))\n",
    "    r2j(r.body)\n",
    "end\n",
    "\n",
    "# getFloatValueArray\n",
    "getFloatValueArray(withKey, withDictArr) = map(dict -> parse(Float32, dict[withKey]) ,withDictArr)\n",
    "getStringValueArray(withKey, withDictArr) = map(dict -> convert(String, dict[withKey]) ,withDictArr)\n",
    "# filter \n",
    "filterOnRegex(matcher,withDictArr; withKey=\"symbol\") = filter(x-> match(Regex(matcher), x[withKey]) != nothing, withDictArr)"
   ]
  },
  {
   "cell_type": "code",
   "execution_count": 32,
   "metadata": {},
   "outputs": [],
   "source": [
    "# get 24H tickerdata of all assets\n",
    "hr24 = getBinanceDataFor(\"24hr\");\n",
    "# base currencies substract retrieve last 3 symbols USDT wil get mangled :-|\n",
    "basecurrences = unique(map(x->x[\"symbol\"][end-2:end],hr24));\n",
    "# all symbols currently on the market\n",
    "allSymbols = map(x->x[\"symbol\"],hr24);\n"
   ]
  },
  {
   "cell_type": "code",
   "execution_count": 33,
   "metadata": {},
   "outputs": [],
   "source": [
    "# lets convert JSON data to Dataframes "
   ]
  },
  {
   "cell_type": "code",
   "execution_count": 34,
   "metadata": {},
   "outputs": [
    {
     "name": "stdout",
     "output_type": "stream",
     "text": [
      "\n",
      " Binance is currently trading in 389 assets.\n",
      "\n",
      " example value from 1 entry in our hr24  \n",
      "\n",
      "\n",
      "20×3 DataFrame\n",
      "│ Row │ variable           │ value           │ symbol │\n",
      "├─────┼────────────────────┼─────────────────┼────────┤\n",
      "│ 1   │ askPrice           │ 0.03979200      │ ETHBTC │\n",
      "│ 2   │ askQty             │ 29.56700000     │ ETHBTC │\n",
      "│ 3   │ bidPrice           │ 0.03978100      │ ETHBTC │\n",
      "│ 4   │ bidQty             │ 1.57500000      │ ETHBTC │\n",
      "│ 5   │ closeTime          │ 1536000383743   │ ETHBTC │\n",
      "│ 6   │ count              │ 120729          │ ETHBTC │\n",
      "│ 7   │ firstId            │ 80132739        │ ETHBTC │\n",
      "│ 8   │ highPrice          │ 0.04053200      │ ETHBTC │\n",
      "│ 9   │ lastId             │ 80253467        │ ETHBTC │\n",
      "│ 10  │ lastPrice          │ 0.03979200      │ ETHBTC │\n",
      "│ 11  │ lastQty            │ 0.15900000      │ ETHBTC │\n",
      "│ 12  │ lowPrice           │ 0.03953700      │ ETHBTC │\n",
      "│ 13  │ openPrice          │ 0.04040500      │ ETHBTC │\n",
      "│ 14  │ openTime           │ 1535913983743   │ ETHBTC │\n",
      "│ 15  │ prevClosePrice     │ 0.04040500      │ ETHBTC │\n",
      "│ 16  │ priceChange        │ -0.00061300     │ ETHBTC │\n",
      "│ 17  │ priceChangePercent │ -1.517          │ ETHBTC │\n",
      "│ 18  │ quoteVolume        │ 6523.73459806   │ ETHBTC │\n",
      "│ 19  │ volume             │ 163228.64100000 │ ETHBTC │\n",
      "│ 20  │ weightedAvgPrice   │ 0.03996685      │ ETHBTC │"
     ]
    }
   ],
   "source": [
    "using DataFrames;\n",
    "\n",
    "symbols = map(x->x[\"symbol\"],hr24);\n",
    "\n",
    "println(\"\\n Binance is currently trading in \", size(symbols,1),\" assets.\")\n",
    "# show first entry of hr24 symbol list so see what is init\n",
    "println(\"\\n example value from 1 entry in our hr24  \\n\\n\")\n",
    "showAll(melt(DataFrame(hr24[1]),:symbol))\n",
    "\n",
    "\n",
    "symbols = getStringValueArray(\"symbol\", hr24);\n",
    "basesymbols = map(x->x[\"symbol\"][end-2:end],hr24);\n",
    "lastPrice = getFloatValueArray(\"lastPrice\", hr24);\n",
    "priceChangePercent = getFloatValueArray(\"priceChangePercent\", hr24);\n",
    "\n",
    "# volume BTC ammount = volume * weightedAvgPrice\n",
    "quoteVolume = getFloatValueArray(\"quoteVolume\", hr24);\n",
    "volume = getFloatValueArray(\"volume\", hr24);\n",
    "# Dataframe convenient structure to handle data in tabular format\n",
    "df = DataFrame(basesymbol=basesymbols, symbol=symbols, lastPrice=lastPrice, priceChangePercent=priceChangePercent, quoteVolume=quoteVolume, volume=volume);\n",
    "sort!(df, :priceChangePercent; rev=false);"
   ]
  },
  {
   "cell_type": "code",
   "execution_count": 35,
   "metadata": {},
   "outputs": [
    {
     "name": "stdout",
     "output_type": "stream",
     "text": [
      "BTC has : 145 assets\n",
      "ETH has : 148 assets\n",
      "BNB has : 76 assets\n",
      "USDT has : 20 assets\n"
     ]
    }
   ],
   "source": [
    "# get only symbols ending on BTC\n",
    "hr24BTC = filterOnRegex(\"BTC\\$\", hr24)\n",
    "hr24ETH = filterOnRegex(\"ETH\\$\", hr24)\n",
    "hr24BNB = filterOnRegex(\"BNB\\$\", hr24)\n",
    "hr24USDT = filterOnRegex(\"USDT\\$\", hr24)\n",
    "\n",
    "println(\"BTC has : \",size(hr24ETH,1),\" assets\")\n",
    "println(\"ETH has : \",size(hr24BTC,1),\" assets\")\n",
    "println(\"BNB has : \",size(hr24BNB,1),\" assets\")\n",
    "println(\"USDT has : \",size(hr24USDT,1),\" assets\")"
   ]
  },
  {
   "cell_type": "code",
   "execution_count": 36,
   "metadata": {},
   "outputs": [
    {
     "name": "stdout",
     "output_type": "stream",
     "text": [
      "\n",
      " Get the $ values from the base currencies\n",
      "\n"
     ]
    },
    {
     "data": {
      "text/html": [
       "<table class=\"data-frame\"><thead><tr><th></th><th>symbol</th><th>lastPrice</th></tr></thead><tbody><tr><th>1</th><td>ETHUSDT</td><td>289.72</td></tr><tr><th>2</th><td>BTCUSDT</td><td>7282.26</td></tr><tr><th>3</th><td>BNBUSDT</td><td>11.3001</td></tr><tr><th>4</th><td>SDTUSDT</td><td>1.0</td></tr></tbody></table>"
      ],
      "text/plain": [
       "4×2 DataFrame\n",
       "│ Row │ symbol  │ lastPrice │\n",
       "├─────┼─────────┼───────────┤\n",
       "│ 1   │ ETHUSDT │ 289.72    │\n",
       "│ 2   │ BTCUSDT │ 7282.26   │\n",
       "│ 3   │ BNBUSDT │ 11.3001   │\n",
       "│ 4   │ SDTUSDT │ 1.0       │"
      ]
     },
     "execution_count": 36,
     "metadata": {},
     "output_type": "execute_result"
    }
   ],
   "source": [
    "# get the latest currency values from base currencies\n",
    "fdf = filter(row -> row[:symbol] in [\"BTCUSDT\",\"ETHUSDT\",\"BNBUSDT\"], df)\n",
    "results = (fdf[:,[:symbol,:lastPrice]])\n",
    "append!(results,DataFrame(symbol=[\"SDTUSDT\"],lastPrice = [1.0]))\n",
    "println(\"\\n Get the \\$ values from the base currencies\\n\")\n",
    "unique!(results)"
   ]
  },
  {
   "cell_type": "code",
   "execution_count": 37,
   "metadata": {},
   "outputs": [
    {
     "name": "stdout",
     "output_type": "stream",
     "text": [
      "4×4 DataFrame\n",
      "│ Row │ basesymbol │ assetSize │ quoteVolume │ quoteVolumeUSDT │\n",
      "├─────┼────────────┼───────────┼─────────────┼─────────────────┤\n",
      "│ 1   │ BTC        │ 148       │ 50927.3     │ 370.866         │\n",
      "│ 2   │ ETH        │ 145       │ 1.47129e5   │ 42.6261         │\n",
      "│ 3   │ BNB        │ 76        │ 2.17332e5   │ 2.45587         │\n",
      "│ 4   │ SDT        │ 20        │ 5.52313e8   │ 552.313         │"
     ]
    },
    {
     "data": {
      "image/svg+xml": [
       "<?xml version=\"1.0\" encoding=\"utf-8\"?>\n",
       "<svg xmlns=\"http://www.w3.org/2000/svg\" xmlns:xlink=\"http://www.w3.org/1999/xlink\" width=\"600\" height=\"400\" viewBox=\"0 0 600 400\">\n",
       "<defs>\n",
       "  <clipPath id=\"clip7200\">\n",
       "    <rect x=\"0\" y=\"0\" width=\"600\" height=\"400\"/>\n",
       "  </clipPath>\n",
       "</defs>\n",
       "<polygon clip-path=\"url(#clip7200)\" points=\"\n",
       "0,400 600,400 600,0 0,0 \n",
       "  \" fill=\"#363c46\" fill-opacity=\"1\"/>\n",
       "<defs>\n",
       "  <clipPath id=\"clip7201\">\n",
       "    <rect x=\"120\" y=\"0\" width=\"421\" height=\"400\"/>\n",
       "  </clipPath>\n",
       "</defs>\n",
       "<polygon clip-path=\"url(#clip7200)\" points=\"\n",
       "40.3485,375.869 580.315,375.869 580.315,31.4961 40.3485,31.4961 \n",
       "  \" fill=\"#30343b\" fill-opacity=\"1\"/>\n",
       "<defs>\n",
       "  <clipPath id=\"clip7202\">\n",
       "    <rect x=\"40\" y=\"31\" width=\"541\" height=\"345\"/>\n",
       "  </clipPath>\n",
       "</defs>\n",
       "<g clip-path=\"url(#clip7200)\">\n",
       "<text style=\"fill:#adb2b7; fill-opacity:1; font-family:Arial,Helvetica Neue,Helvetica,sans-serif; font-size:21; text-anchor:middle;\" transform=\"rotate(0, 310.332, 18)\" x=\"310.332\" y=\"18\">USDT trading distribution Binance</text>\n",
       "</g>\n",
       "<polygon clip-path=\"url(#clip7200)\" points=\"\n",
       "310.332,230.681 455.52,230.681 455.498,228.147 455.431,225.614 455.321,223.082 455.166,220.553 454.967,218.027 454.724,215.504 454.438,212.987 454.107,210.474 \n",
       "  453.732,207.968 453.314,205.469 452.852,202.978 452.347,200.494 451.799,198.021 451.207,195.557 450.573,193.103 449.895,190.661 449.176,188.232 448.414,185.815 \n",
       "  447.61,183.412 446.764,181.023 445.876,178.65 444.948,176.292 443.978,173.951 442.968,171.627 441.917,169.322 440.826,167.034 439.695,164.767 438.525,162.519 \n",
       "  437.316,160.292 436.068,158.087 434.782,155.903 433.458,153.743 432.097,151.606 430.698,149.493 429.263,147.404 427.791,145.341 426.284,143.304 424.741,141.294 \n",
       "  423.164,139.311 421.552,137.356 419.906,135.429 418.227,133.531 416.516,131.663 414.771,129.825 412.995,128.017 411.188,126.241 409.35,124.497 407.481,122.785 \n",
       "  405.584,121.106 403.657,119.46 401.701,117.848 399.718,116.271 397.708,114.728 395.671,113.221 393.608,111.75 391.52,110.314 389.407,108.916 387.27,107.554 \n",
       "  385.109,106.23 382.926,104.944 380.72,103.696 378.493,102.487 376.246,101.317 373.978,100.187 371.691,99.0957 369.385,98.0449 367.061,97.0344 364.72,96.0647 \n",
       "  362.362,95.136 359.989,94.2486 357.6,93.4028 355.197,92.5987 352.781,91.8367 350.351,91.117 347.909,90.4399 345.456,89.8054 342.992,89.2139 340.518,88.6654 \n",
       "  338.035,88.1602 335.543,87.6984 333.044,87.2802 330.538,86.9057 328.026,86.5749 325.508,86.2881 322.986,86.0452 320.46,85.8464 317.93,85.6917 315.399,85.5812 \n",
       "  312.866,85.5148 310.332,85.4927 307.798,85.5148 305.265,85.5812 302.733,85.6917 300.204,85.8464 297.678,86.0452 295.155,86.2881 292.638,86.5749 290.125,86.9057 \n",
       "  287.619,87.2802 285.12,87.6984 282.629,88.1602 280.145,88.6654 277.672,89.2139 275.208,89.8054 272.754,90.4399 270.313,91.117 267.883,91.8367 265.466,92.5987 \n",
       "  263.063,93.4028 260.675,94.2486 258.301,95.136 255.943,96.0647 253.602,97.0344 251.278,98.0449 248.973,99.0957 246.686,100.187 244.418,101.317 242.17,102.487 \n",
       "  239.943,103.696 237.738,104.944 235.554,106.23 233.394,107.554 231.257,108.916 229.144,110.314 227.055,111.75 224.992,113.221 222.955,114.728 220.945,116.271 \n",
       "  218.962,117.848 217.007,119.46 215.08,121.106 213.182,122.785 211.314,124.497 209.476,126.241 207.668,128.017 205.892,129.825 204.148,131.663 202.436,133.531 \n",
       "  \n",
       "  \" fill=\"#ffb200\" fill-opacity=\"1\"/>\n",
       "<g clip-path=\"url(#clip7200)\">\n",
       "<text style=\"fill:#ffffff; fill-opacity:1; font-family:Arial,Helvetica Neue,Helvetica,sans-serif; font-size:12; text-anchor:start;\" transform=\"rotate(0, 403.566, 86.0816)\" x=\"403.566\" y=\"86.0816\">BTC</text>\n",
       "</g>\n",
       "<polyline clip-path=\"url(#clip7200)\" style=\"stroke:#000000; stroke-width:1; stroke-opacity:1; fill:none\" points=\"\n",
       "  362.362,95.136 367.566,81.5816 397.566,81.5816 \n",
       "  \"/>\n",
       "<polygon clip-path=\"url(#clip7200)\" points=\"\n",
       "310.332,230.681 202.436,133.531 200.757,135.429 199.111,137.356 197.499,139.311 195.922,141.294 194.379,143.304 192.872,145.341 191.401,147.404 189.965,149.493 \n",
       "  188.567,151.606 187.205,153.743 185.881,155.903 184.595,158.087 183.347,160.292 182.138,162.519 180.968,164.767 179.838,167.034 \n",
       "  \" fill=\"#7f3e74\" fill-opacity=\"1\"/>\n",
       "<g clip-path=\"url(#clip7200)\">\n",
       "<text style=\"fill:#ffffff; fill-opacity:1; font-family:Arial,Helvetica Neue,Helvetica,sans-serif; font-size:12; text-anchor:end;\" transform=\"rotate(0, 141.929, 145.874)\" x=\"141.929\" y=\"145.874\">ETH</text>\n",
       "</g>\n",
       "<polyline clip-path=\"url(#clip7200)\" style=\"stroke:#000000; stroke-width:1; stroke-opacity:1; fill:none\" points=\"\n",
       "  189.965,149.493 177.929,141.374 147.929,141.374 \n",
       "  \"/>\n",
       "<polygon clip-path=\"url(#clip7200)\" points=\"\n",
       "310.332,230.681 179.838,167.034 178.747,169.322 \n",
       "  \" fill=\"#ff6700\" fill-opacity=\"1\"/>\n",
       "<g clip-path=\"url(#clip7200)\">\n",
       "<text style=\"fill:#ffffff; fill-opacity:1; font-family:Arial,Helvetica Neue,Helvetica,sans-serif; font-size:12; text-anchor:end;\" transform=\"rotate(0, 130.183, 166.425)\" x=\"130.183\" y=\"166.425\">BNB</text>\n",
       "</g>\n",
       "<polyline clip-path=\"url(#clip7200)\" style=\"stroke:#000000; stroke-width:1; stroke-opacity:1; fill:none\" points=\"\n",
       "  179.287,168.176 166.183,161.925 136.183,161.925 \n",
       "  \"/>\n",
       "<polygon clip-path=\"url(#clip7200)\" points=\"\n",
       "310.332,230.681 178.747,169.322 177.696,171.627 176.685,173.951 175.716,176.292 174.787,178.65 173.9,181.023 173.054,183.412 172.25,185.815 171.488,188.232 \n",
       "  170.768,190.661 170.091,193.103 169.456,195.557 168.865,198.021 168.316,200.494 167.811,202.978 167.349,205.469 166.931,207.968 166.557,210.474 166.226,212.987 \n",
       "  165.939,215.504 165.696,218.027 165.497,220.553 165.343,223.082 165.232,225.614 165.166,228.147 165.144,230.681 165.166,233.215 165.232,235.748 165.343,238.279 \n",
       "  165.497,240.808 165.696,243.335 165.939,245.857 166.226,248.375 166.557,250.887 166.931,253.393 167.349,255.892 167.811,258.384 168.316,260.867 168.865,263.341 \n",
       "  169.456,265.805 170.091,268.258 170.768,270.7 171.488,273.13 172.25,275.546 173.054,277.949 173.9,280.338 174.787,282.711 175.716,285.069 176.685,287.41 \n",
       "  177.696,289.734 178.747,292.04 179.838,294.327 180.968,296.595 182.138,298.842 183.347,301.069 184.595,303.275 185.881,305.458 187.205,307.619 188.567,309.756 \n",
       "  189.965,311.869 191.401,313.957 192.872,316.02 194.379,318.057 195.922,320.067 197.499,322.05 199.111,324.006 200.757,325.933 202.436,327.83 204.148,329.699 \n",
       "  205.892,331.537 207.668,333.344 209.476,335.12 211.314,336.864 213.182,338.576 215.08,340.255 217.007,341.901 218.962,343.513 220.945,345.09 222.955,346.633 \n",
       "  224.992,348.14 227.055,349.612 229.144,351.047 231.257,352.446 233.394,353.807 235.554,355.131 237.738,356.417 239.943,357.665 242.17,358.874 244.418,360.044 \n",
       "  246.686,361.175 248.973,362.266 251.278,363.317 253.602,364.327 255.943,365.297 258.301,366.225 260.675,367.113 263.063,367.959 265.466,368.763 267.883,369.525 \n",
       "  270.313,370.244 272.754,370.922 275.208,371.556 277.672,372.148 280.145,372.696 282.629,373.201 285.12,373.663 287.619,374.081 290.125,374.456 292.638,374.786 \n",
       "  295.155,375.073 297.678,375.316 300.204,375.515 302.733,375.67 305.265,375.78 307.798,375.847 310.332,375.869 312.866,375.847 315.399,375.78 317.93,375.67 \n",
       "  320.46,375.515 322.986,375.316 325.508,375.073 328.026,374.786 330.538,374.456 333.044,374.081 335.543,373.663 338.035,373.201 340.518,372.696 342.992,372.148 \n",
       "  345.456,371.556 347.909,370.922 350.351,370.244 352.781,369.525 355.197,368.763 357.6,367.959 359.989,367.113 362.362,366.225 364.72,365.297 367.061,364.327 \n",
       "  369.385,363.317 371.691,362.266 373.978,361.175 376.246,360.044 378.493,358.874 380.72,357.665 382.926,356.417 385.109,355.131 387.27,353.807 389.407,352.446 \n",
       "  391.52,351.047 393.608,349.612 395.671,348.14 397.708,346.633 399.718,345.09 401.701,343.513 403.657,341.901 405.584,340.255 407.481,338.576 409.35,336.864 \n",
       "  411.188,335.12 412.995,333.344 414.771,331.537 416.516,329.699 418.227,327.83 419.906,325.933 421.552,324.006 423.164,322.05 424.741,320.067 426.284,318.057 \n",
       "  427.791,316.02 429.263,313.957 430.698,311.869 432.097,309.756 433.458,307.619 434.782,305.458 436.068,303.275 437.316,301.069 438.525,298.842 439.695,296.595 \n",
       "  440.826,294.327 441.917,292.04 442.968,289.734 443.978,287.41 444.948,285.069 445.876,282.711 446.764,280.338 447.61,277.949 448.414,275.546 449.176,273.13 \n",
       "  449.895,270.7 450.573,268.258 451.207,265.805 451.799,263.341 452.347,260.867 452.852,258.384 453.314,255.892 453.732,253.393 454.107,250.887 454.438,248.375 \n",
       "  454.724,245.857 454.967,243.335 455.166,240.808 455.321,238.279 455.431,235.748 455.498,233.215 455.52,230.681 \n",
       "  \" fill=\"#59a3c0\" fill-opacity=\"1\"/>\n",
       "<g clip-path=\"url(#clip7200)\">\n",
       "<text style=\"fill:#ffffff; fill-opacity:1; font-family:Arial,Helvetica Neue,Helvetica,sans-serif; font-size:12; text-anchor:end;\" transform=\"rotate(0, 239.765, 391.102)\" x=\"239.765\" y=\"391.102\">SDT</text>\n",
       "</g>\n",
       "<polyline clip-path=\"url(#clip7200)\" style=\"stroke:#000000; stroke-width:1; stroke-opacity:1; fill:none\" points=\"\n",
       "  278.907,372.427 275.765,386.602 245.765,386.602 \n",
       "  \"/>\n",
       "</svg>\n"
      ]
     },
     "execution_count": 37,
     "metadata": {},
     "output_type": "execute_result"
    }
   ],
   "source": [
    "using StatPlots\n",
    "theme(:dark);\n",
    "\n",
    "symbol_volume = by(df, :basesymbol) do d\n",
    "    USDT_CONVERSION = filter(row -> row[:symbol] == string(d[:basesymbol][1], \"USDT\"), results)[:lastPrice]\n",
    "    DataFrame(assetSize  = size(d[:symbol], 1), quoteVolume  = sum(d[:quoteVolume]), quoteVolumeUSDT  = sum(d[:quoteVolume])*USDT_CONVERSION/10^6)\n",
    "    end;\n",
    "\n",
    "show(sort!(symbol_volume, [:assetSize,:quoteVolumeUSDT]; rev=true))\n",
    "\n",
    "Plots.plot(symbol_volume[:basesymbol], symbol_volume[:quoteVolumeUSDT],seriestype=:pie,title = \"USDT trading distribution Binance\")"
   ]
  }
 ],
 "metadata": {
  "kernelspec": {
   "display_name": "Julia 1.0.0",
   "language": "julia",
   "name": "julia-1.0"
  },
  "language_info": {
   "file_extension": ".jl",
   "mimetype": "application/julia",
   "name": "julia",
   "version": "1.0.0"
  }
 },
 "nbformat": 4,
 "nbformat_minor": 2
}
